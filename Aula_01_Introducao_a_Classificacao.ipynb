{
  "nbformat": 4,
  "nbformat_minor": 0,
  "metadata": {
    "colab": {
      "name": "Aula-01_Introdução_a_Classificação.ipynb",
      "provenance": [],
      "collapsed_sections": []
    },
    "kernelspec": {
      "name": "python3",
      "display_name": "Python 3"
    },
    "language_info": {
      "name": "python"
    }
  },
  "cells": [
    {
      "cell_type": "code",
      "metadata": {
        "id": "Df1aodf1WUgJ"
      },
      "source": [
        "# features (1 sim, 0 não)\n",
        "# pelo longo? \n",
        "# perna curta?\n",
        "# faz auau?\n",
        "# rabo enrolado\n",
        "porco1 = [0, 1, 0, 1]\n",
        "porco2 = [0, 1, 1, 1]\n",
        "porco3 = [1, 1, 0, 1]\n",
        "porco4 = [1, 1, 0, 1]\n",
        "\n",
        "cachorro1 = [0, 1, 1, 0]\n",
        "cachorro2 = [1, 0, 1, 0]\n",
        "cachorro3 = [1, 1, 1, 0]\n",
        "cachorro4 = [0, 1, 1, 1] #pug\n",
        "\n",
        "# 1 => porco, 0 => cachorro\n",
        "train_x = [porco1, porco2, porco3, porco4, cachorro1, cachorro2, cachorro3, cachorro4] #training data\n",
        "train_y = [1,1,1,1,0,0,0,0] #training result"
      ],
      "execution_count": 1,
      "outputs": []
    },
    {
      "cell_type": "code",
      "metadata": {
        "colab": {
          "base_uri": "https://localhost:8080/"
        },
        "id": "pKoSFgyEhFoA",
        "outputId": "1eec6437-07ea-4616-8e33-15b3c15f4341"
      },
      "source": [
        "\n",
        "from sklearn.svm import LinearSVC\n",
        "\n",
        "model = LinearSVC()\n",
        "model.fit(train_x, train_y)"
      ],
      "execution_count": 2,
      "outputs": [
        {
          "output_type": "execute_result",
          "data": {
            "text/plain": [
              "LinearSVC(C=1.0, class_weight=None, dual=True, fit_intercept=True,\n",
              "          intercept_scaling=1, loss='squared_hinge', max_iter=1000,\n",
              "          multi_class='ovr', penalty='l2', random_state=None, tol=0.0001,\n",
              "          verbose=0)"
            ]
          },
          "metadata": {
            "tags": []
          },
          "execution_count": 2
        }
      ]
    },
    {
      "cell_type": "code",
      "metadata": {
        "colab": {
          "base_uri": "https://localhost:8080/"
        },
        "id": "EWCbVal1htNW",
        "outputId": "7bf7e7b0-1fa9-4a4f-bf04-05598bedbbd6"
      },
      "source": [
        "animal_misterioso = [1,1,0,1]\n",
        "model.predict([animal_misterioso])"
      ],
      "execution_count": 3,
      "outputs": [
        {
          "output_type": "execute_result",
          "data": {
            "text/plain": [
              "array([1])"
            ]
          },
          "metadata": {
            "tags": []
          },
          "execution_count": 3
        }
      ]
    },
    {
      "cell_type": "code",
      "metadata": {
        "id": "k7x1oBJ-iAaG"
      },
      "source": [
        "misterio1 = [1,1,1,1]\n",
        "misterio2 = [1,1,0,1]\n",
        "misterio3 = [0,1,1,1]\n",
        "\n",
        "test_x = [misterio1, misterio2, misterio3]\n",
        "test_y = [0, 1, 0]\n",
        "predictions = model.predict(test_x)"
      ],
      "execution_count": 4,
      "outputs": []
    },
    {
      "cell_type": "code",
      "metadata": {
        "colab": {
          "base_uri": "https://localhost:8080/"
        },
        "id": "K3ixWsuViKZL",
        "outputId": "d883b08d-3550-44c0-af13-705c0521960c"
      },
      "source": [
        "from sklearn.metrics import accuracy_score\n",
        "\n",
        "accuracy = accuracy_score(test_y, predictions)\n",
        "print(\"Taxa de acerto %.2f\" % (accuracy * 100))"
      ],
      "execution_count": 5,
      "outputs": [
        {
          "output_type": "stream",
          "text": [
            "Taxa de acerto 66.67\n"
          ],
          "name": "stdout"
        }
      ]
    },
    {
      "cell_type": "code",
      "metadata": {
        "id": "QeOVGVkCiVBI"
      },
      "source": [
        ""
      ],
      "execution_count": 5,
      "outputs": []
    }
  ]
}